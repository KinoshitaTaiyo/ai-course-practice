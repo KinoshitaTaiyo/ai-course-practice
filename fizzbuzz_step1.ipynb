{
  "nbformat": 4,
  "nbformat_minor": 0,
  "metadata": {
    "colab": {
      "provenance": [],
      "authorship_tag": "ABX9TyPtWijFUSvctpHM3/NUQQ7d",
      "include_colab_link": true
    },
    "kernelspec": {
      "name": "python3",
      "display_name": "Python 3"
    },
    "language_info": {
      "name": "python"
    }
  },
  "cells": [
    {
      "cell_type": "markdown",
      "metadata": {
        "id": "view-in-github",
        "colab_type": "text"
      },
      "source": [
        "<a href=\"https://colab.research.google.com/github/KinoshitaTaiyo/ai-course-practice/blob/main/fizzbuzz_step1.ipynb\" target=\"_parent\"><img src=\"https://colab.research.google.com/assets/colab-badge.svg\" alt=\"Open In Colab\"/></a>"
      ]
    },
    {
      "cell_type": "code",
      "execution_count": 22,
      "metadata": {
        "id": "yYkc69CITyiS",
        "colab": {
          "base_uri": "https://localhost:8080/"
        },
        "outputId": "cbfbefce-b474-4708-f931-0548086624e3"
      },
      "outputs": [
        {
          "output_type": "stream",
          "name": "stdout",
          "text": [
            "[1, 2, 'Multiple of 3', 4, 5, 'Multiple of 6', 7, 8, 'Multiple of 9', 10, 11, 'Multiple of 12', 13, 14, 'Multiple of 15', 16, 17, 'Multiple of 18', 19, 20]\n"
          ]
        }
      ],
      "source": [
        "result_list = []\n",
        "for i in range(1, 21):\n",
        "    if i % 3 == 0:\n",
        "        result_list.append(f\"Multiple of {i}\")\n",
        "    else:\n",
        "      result_list.append(i)\n",
        "print(result_list)"
      ]
    }
  ]
}